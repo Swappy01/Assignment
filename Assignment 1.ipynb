{
 "cells": [
  {
   "cell_type": "code",
   "execution_count": 14,
   "id": "ac534efb-ef52-4883-ac61-ec68c12583d2",
   "metadata": {},
   "outputs": [
    {
     "name": "stdout",
     "output_type": "stream",
     "text": [
      "10.0\n"
     ]
    }
   ],
   "source": [
    "##Python Type Conversion##\n",
    "#Convert an integer to a floating-point number.\n",
    "\n",
    "a= 10\n",
    "\n",
    "b= float(a)\n",
    "print(b)"
   ]
  },
  {
   "cell_type": "code",
   "execution_count": 2,
   "id": "cb26a114-8e73-4847-b9ab-03661b14bec0",
   "metadata": {},
   "outputs": [
    {
     "name": "stdout",
     "output_type": "stream",
     "text": [
      "10\n"
     ]
    }
   ],
   "source": [
    "#Convert a float to a integer.\n",
    "\n",
    "b= 10.0\n",
    "c= int(b)\n",
    "print(c)"
   ]
  },
  {
   "cell_type": "code",
   "execution_count": 13,
   "id": "d0940054-43ef-4e18-8bc4-56e466248ace",
   "metadata": {},
   "outputs": [
    {
     "name": "stdout",
     "output_type": "stream",
     "text": [
      "10.9\n"
     ]
    }
   ],
   "source": [
    "# Convert an integer to a string.\n",
    "a= 10.9\n",
    "b= str(a)\n",
    "print(b)\n"
   ]
  },
  {
   "cell_type": "code",
   "execution_count": 11,
   "id": "0ac27373-f977-471e-a251-0a9aa3dbee2d",
   "metadata": {},
   "outputs": [
    {
     "name": "stdout",
     "output_type": "stream",
     "text": [
      "(1, 'mk', 'ak', 32, 56, 27)\n"
     ]
    }
   ],
   "source": [
    "#convert a list to tuple.\n",
    "a = [1,'mk','ak',32,56,27]\n",
    "b = tuple(a)\n",
    "print(b)"
   ]
  },
  {
   "cell_type": "code",
   "execution_count": 20,
   "id": "2dc25d3d-0d99-44de-8eca-a0ed95ad98a8",
   "metadata": {},
   "outputs": [
    {
     "name": "stdout",
     "output_type": "stream",
     "text": [
      "[1, 'mk', 'ak', 32, 56, 27]\n"
     ]
    }
   ],
   "source": [
    "  #Convrt a tuple to a list.\n",
    "a = (1, 'mk', 'ak', 32, 56, 27)\n",
    "b = list(a)\n",
    "print(b)"
   ]
  },
  {
   "cell_type": "code",
   "execution_count": 2,
   "id": "a1c764f3-2f29-40f8-8117-ad7b797fc0e6",
   "metadata": {},
   "outputs": [
    {
     "name": "stdout",
     "output_type": "stream",
     "text": [
      "[1, 'mk', 'ak', 32, 56, 27]\n"
     ]
    }
   ],
   "source": [
    "a = (1, 'mk', 'ak', 32, 56, 27)\n",
    "b = list(a)\n",
    "print(b)"
   ]
  },
  {
   "cell_type": "code",
   "execution_count": 3,
   "id": "e95eb443-1576-415d-a459-3d803f977f05",
   "metadata": {},
   "outputs": [
    {
     "name": "stdout",
     "output_type": "stream",
     "text": [
      "0b10100\n"
     ]
    }
   ],
   "source": [
    "#Convert a decimal number to binary.\n",
    "a=20\n",
    "b=bin(a)\n",
    "print(b)"
   ]
  },
  {
   "cell_type": "code",
   "execution_count": 7,
   "id": "1b731b8f-75b9-4f73-988e-0b1eee024e35",
   "metadata": {},
   "outputs": [
    {
     "name": "stdout",
     "output_type": "stream",
     "text": [
      "True\n"
     ]
    }
   ],
   "source": [
    "# Convert a non-zero number to boolean.\n",
    "a=55\n",
    "d=bool(a)\n",
    "print(d)"
   ]
  },
  {
   "cell_type": "code",
   "execution_count": null,
   "id": "ede0ad53-9ebf-409a-97af-f269f8955253",
   "metadata": {},
   "outputs": [],
   "source": []
  }
 ],
 "metadata": {
  "kernelspec": {
   "display_name": "Python 3 (ipykernel)",
   "language": "python",
   "name": "python3"
  },
  "language_info": {
   "codemirror_mode": {
    "name": "ipython",
    "version": 3
   },
   "file_extension": ".py",
   "mimetype": "text/x-python",
   "name": "python",
   "nbconvert_exporter": "python",
   "pygments_lexer": "ipython3",
   "version": "3.10.8"
  }
 },
 "nbformat": 4,
 "nbformat_minor": 5
}
